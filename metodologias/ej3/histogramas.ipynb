{
 "cells": [
  {
   "attachments": {},
   "cell_type": "markdown",
   "metadata": {},
   "source": [
    "# Práctica: Evaluación Metodologías de Data Streams | Histogramas\n",
    "\n",
    "- Asignatura: Datos temporales y complejos\n",
    "- Autor: Mira Abad, Alejandro"
   ]
  },
  {
   "cell_type": "code",
   "execution_count": 60,
   "metadata": {
    "ExecuteTime": {
     "end_time": "2023-05-15T15:54:00.425434800Z",
     "start_time": "2023-05-15T15:54:00.401378600Z"
    }
   },
   "outputs": [],
   "source": [
    "import random\n",
    "import numpy as np\n",
    "import pandas as pd\n",
    "import matplotlib.pyplot as plt"
   ]
  },
  {
   "cell_type": "code",
   "execution_count": 61,
   "metadata": {},
   "outputs": [],
   "source": [
    "class HistogramEqualFrequency:\n",
    "    '''\n",
    "    La clase HistogramEqualFrequency genera un histogramo donde cada \"cubo\" tiene aproximadamente la misma frecuencia total.\n",
    "    Los datos se dividen en \"cubos\" de manera que la suma total de las frecuencias en cada cubo sea aproximadamente la misma.\n",
    "\n",
    "    Atributos\n",
    "    ----------\n",
    "    frequencies : list\n",
    "        Una lista de las frecuencias de los datos.\n",
    "    num_buckets : int\n",
    "        El número de \"cubos\" que se deben formar.\n",
    "    N : int\n",
    "        El número de datos.\n",
    "\n",
    "    Métodos\n",
    "    -------\n",
    "    __init__(self, frequencies, num_buckets):\n",
    "        Inicializa una instancia de HistogramEqualFrequency.\n",
    "\n",
    "    generate(self):\n",
    "        Genera el histograma de frecuencia igual.\n",
    "\n",
    "    save_histogram(self, directory):\n",
    "        Guarda el histograma generado en la ubicación especificada.\n",
    "    '''\n",
    "    def __init__(self, frequencies, num_buckets):\n",
    "        self.frequencies = frequencies\n",
    "        self.num_buckets = num_buckets\n",
    "        self.N = len(frequencies)\n",
    "\n",
    "    def generate(self):\n",
    "        total_freq = sum(self.frequencies)\n",
    "        freq_per_bucket = total_freq // self.num_buckets\n",
    "        \n",
    "        self.bucket_limits = []\n",
    "        self.bucket_indices = [[] for _ in range(self.num_buckets)]\n",
    "        cumulative_freq = 0\n",
    "        current_bucket = 0\n",
    "        for i in range(self.N):\n",
    "            cumulative_freq += self.frequencies[i]\n",
    "            self.bucket_indices[current_bucket].append(i+1)\n",
    "            if cumulative_freq >= freq_per_bucket and current_bucket < self.num_buckets-1:\n",
    "                self.bucket_limits.append(i+1)\n",
    "                cumulative_freq -= freq_per_bucket\n",
    "                current_bucket += 1\n",
    "\n",
    "        # Añade el límite del último cubo\n",
    "        if len(self.bucket_limits) < self.num_buckets:\n",
    "            self.bucket_limits.append(self.N)\n",
    "\n",
    "        # Corregir si hemos añadido un cubo de más\n",
    "        if len(self.bucket_limits) > self.num_buckets:\n",
    "            self.bucket_limits = self.bucket_limits[:-1]\n",
    "        \n",
    "        self.bucket_freqs = [freq_per_bucket]*self.num_buckets\n",
    "        self.bucket_freqs[-1] += total_freq - freq_per_bucket*self.num_buckets   # añade el resto al último cubo\n",
    "\n",
    "    def save_histogram(self, directory):\n",
    "        plt.figure(figsize=(10,7)) \n",
    "        plt.bar(range(1, self.num_buckets+1), self.bucket_freqs, tick_label=[str(indices) for indices in self.bucket_indices])\n",
    "        plt.title('Histograma de los cubos')\n",
    "        plt.xlabel('Cubos')\n",
    "        plt.ylabel('Frecuencia')\n",
    "        plt.savefig(f'{directory}/histogram.png')"
   ]
  },
  {
   "cell_type": "code",
   "execution_count": 62,
   "metadata": {},
   "outputs": [],
   "source": [
    "class HistogramGeneratorVOpt:\n",
    "    '''\n",
    "    La clase HistogramGeneratorVOpt es responsable de generar un histograma basado en el algoritmo V-opt.\n",
    "    Los datos se dividen en \"cubos\" de manera que se minimice la suma de los errores cuadrados dentro de los cubos.\n",
    "\n",
    "    Atributos\n",
    "    ----------\n",
    "    frequencies : list\n",
    "        Una lista de las frecuencias de los datos.\n",
    "    num_buckets : int\n",
    "        El número de \"cubos\" que se deben formar.\n",
    "    N : int\n",
    "        El número de datos.\n",
    "\n",
    "    Métodos\n",
    "    -------\n",
    "    __init__(self, frequencies, num_buckets):\n",
    "        Inicializa una instancia de HistogramGeneratorVOpt.\n",
    "\n",
    "    sq_error(self, a, b):\n",
    "        Calcula y devuelve el error cuadrado entre los puntos a y b.\n",
    "\n",
    "    generate(self):\n",
    "        Genera el histograma utilizando el algoritmo V-opt.\n",
    "\n",
    "    save_histogram(self, directory):\n",
    "        Guarda el histograma generado en la ubicación especificada.\n",
    "    '''\n",
    "    def __init__(self, frequencies, num_buckets):\n",
    "        self.frequencies = frequencies\n",
    "        self.num_buckets = num_buckets\n",
    "        self.N = len(frequencies)\n",
    "\n",
    "    def sq_error(self, a, b):\n",
    "        s2 = self.PP[b] - self.PP[a]\n",
    "        s1 = self.P[b] - self.P[a]\n",
    "        return (s2 - s1*s1/(b-a+1))\n",
    "\n",
    "    def generate(self):\n",
    "        self.P = np.zeros(self.N+1)\n",
    "        self.PP = np.zeros(self.N+1)\n",
    "        BestErr = np.full((self.num_buckets+1, self.N+1), np.inf)\n",
    "        self.index = np.zeros(self.N+1, dtype=int)\n",
    "        self.bucket_indices = [[] for _ in range(self.num_buckets)]\n",
    "\n",
    "        for i in range(1, self.N+1):\n",
    "            self.P[i] = self.P[i-1] + self.frequencies[i-1]\n",
    "            self.PP[i] = self.PP[i-1] + (self.frequencies[i-1] ** 2)\n",
    "\n",
    "        for i in range(1, self.N+1):\n",
    "            BestErr[1][i] = self.sq_error(1,i)\n",
    "\n",
    "        self.index[1] = 1\n",
    "\n",
    "        for k in range(1, self.num_buckets+1):\n",
    "            for i in range(1, self.N+1):\n",
    "                for j in range(1, i):\n",
    "                    temp = BestErr[k-1][j] + self.sq_error(j+1,i)\n",
    "                    if temp < BestErr[k][i]:\n",
    "                        BestErr[k][i] = temp\n",
    "                        self.index[i] = j + 1\n",
    "\n",
    "        j = self.N\n",
    "        i = self.num_buckets\n",
    "        while i >= 2:\n",
    "            end_point = j\n",
    "            j = self.index[j]\n",
    "            self.bucket_indices[i-1] = list(range(j, end_point+1))\n",
    "            j -= 1\n",
    "            i -= 1\n",
    "        self.bucket_indices[0] = list(range(1, j+1)) \n",
    "\n",
    "        bucket_freqs = []\n",
    "        j = self.N\n",
    "        for i in range(self.num_buckets, 1, -1):\n",
    "            end_point = j\n",
    "            j = self.index[j]\n",
    "            bucket_freqs.append(self.P[end_point] - self.P[j-1])  \n",
    "            j -= 1\n",
    "        bucket_freqs.append(self.P[j])\n",
    "\n",
    "        self.bucket_freqs = bucket_freqs[::-1]  # reverse the list\n",
    "\n",
    "    def save_histogram(self, directory):\n",
    "        plt.figure(figsize=(10,7))  # adjust as needed\n",
    "        plt.bar(range(1, self.num_buckets+1), self.bucket_freqs, tick_label=[str(indices) for indices in self.bucket_indices])\n",
    "        plt.title('Histograma de los cubos')\n",
    "        plt.xlabel('Cubos')\n",
    "        plt.ylabel('Frecuencia')\n",
    "        plt.savefig(f'{directory}/histogramVopt.png')"
   ]
  },
  {
   "cell_type": "code",
   "execution_count": 66,
   "metadata": {},
   "outputs": [],
   "source": [
    "# Main\n",
    "f = [7,3,4,5,9,10,8,1,9,4]  # your frequencies\n",
    "B = 6  # your number of buckets"
   ]
  },
  {
   "cell_type": "code",
   "execution_count": 67,
   "metadata": {},
   "outputs": [
    {
     "data": {
      "image/png": "[encoded data removed]",
      "text/plain": [
       "<Figure size 1000x700 with 1 Axes>"
      ]
     },
     "metadata": {},
     "output_type": "display_data"
    }
   ],
   "source": [
    "hist_generator = HistogramEqualFrequency(f, B)\n",
    "hist_generator.generate()\n",
    "hist_generator.save_histogram('./src')  # specify your directory"
   ]
  },
  {
   "cell_type": "code",
   "execution_count": 65,
   "metadata": {},
   "outputs": [
    {
     "data": {
      "image/png": "[encoded data removed]",
      "text/plain": [
       "<Figure size 1000x700 with 1 Axes>"
      ]
     },
     "metadata": {},
     "output_type": "display_data"
    }
   ],
   "source": [
    "hist_generator = HistogramGeneratorVOpt(f, B)\n",
    "hist_generator.generate()\n",
    "hist_generator.save_histogram('./src')  # specify your directory"
   ]
  }
 ],
 "metadata": {
  "kernelspec": {
   "display_name": "U1-Nyznf3vH",
   "language": "python",
   "name": "python3"
  },
  "language_info": {
   "codemirror_mode": {
    "name": "ipython",
    "version": 3
   },
   "file_extension": ".py",
   "mimetype": "text/x-python",
   "name": "python",
   "nbconvert_exporter": "python",
   "pygments_lexer": "ipython3",
   "version": "3.9.13"
  },
  "orig_nbformat": 4
 },
 "nbformat": 4,
 "nbformat_minor": 2
}
